{
 "cells": [
  {
   "cell_type": "markdown",
   "source": [
    "# Expressions"
   ],
   "metadata": {}
  },
  {
   "cell_type": "markdown",
   "source": [
    "## Count Seconds in a Decade\n",
    "Write a Python program to calculate the number of seconds in 10 years. Assume that we have 2 leap years in this period. Assign the result into a variable named seconds_in_10_years."
   ],
   "metadata": {}
  },
  {
   "cell_type": "code",
   "execution_count": 8,
   "source": [
    "years = float(input(\"Enter the years to convert to second:\"))\n",
    "\n",
    "\n",
    "if years >= 8:\n",
    "    # Adding the 2 days because of the two leap years\n",
    "    years_to_days = (years*365) + 2\n",
    "    print('Added the two additional days because of the two leap years')\n",
    "elif years >= 4:\n",
    "    years_to_days = (years*365) + 1\n",
    "    print('Added the one additional day because of the one leap year')\n",
    "else:\n",
    "    years_to_days = (years*365)\n",
    "    print('No additinoal days in calculation')\n",
    "\n",
    "\n",
    "# years_to_days = (int(years)*365) + 2 # Adding the 2 addiional days because of the two leap years\n",
    "\n",
    "seconds_in_hour = 60*60\n",
    "\n",
    "seconds_in_day = seconds_in_hour*24\n",
    "\n",
    "seconds_in_10_years = seconds_in_day*years_to_days\n",
    "\n",
    "print(seconds_in_10_years)\n"
   ],
   "outputs": [
    {
     "output_type": "stream",
     "name": "stdout",
     "text": [
      "Enter the years to convert to second:10\n",
      "Added the two additional days because of the two leap years\n",
      "315532800.0\n"
     ]
    }
   ],
   "metadata": {}
  },
  {
   "cell_type": "markdown",
   "source": [
    "## Compute the Area of a Circle\n",
    "Write a Python program that computes the area of a circle based on a given radius (area = $ \\pi r^2 $)."
   ],
   "metadata": {}
  },
  {
   "cell_type": "code",
   "execution_count": 9,
   "source": [
    "import math\n",
    "\n",
    "r = float(input(\"Enter the circle Radius:\"))\n",
    "\n",
    "Area = math.pi*r**2\n",
    "\n",
    "print(Area)"
   ],
   "outputs": [
    {
     "output_type": "stream",
     "name": "stdout",
     "text": [
      "Enter the circle Radius:2.5\n",
      "19.634954084936208\n"
     ]
    }
   ],
   "metadata": {}
  },
  {
   "cell_type": "markdown",
   "source": [
    "## Print User's Name\n",
    "Write a Python program which accepts the user's first and last name and print them in reverse order with a space between them. Note that you can use the input() function to take user's inputs."
   ],
   "metadata": {}
  },
  {
   "cell_type": "code",
   "execution_count": 10,
   "source": [
    "Given_name = input('Enter User Firts Name: ')\n",
    "Given_last = input('Enter User Last Name: ')\n",
    "\n",
    "def reverse_str(name):\n",
    "    return name[::-1]\n",
    "\n",
    "\n",
    "reversed_name = reverse_str(Given_name)\n",
    "\n",
    "print(\"The reversed String: \",reversed_name)\n"
   ],
   "outputs": [
    {
     "output_type": "stream",
     "name": "stdout",
     "text": [
      "Enter User Firts and Last name: Jason Fernandes\n",
      "The reversed String:  sednanreF nosaJ\n"
     ]
    }
   ],
   "metadata": {}
  },
  {
   "cell_type": "markdown",
   "source": [
    "## Compute Maximum of Numbers\n",
    "Write a program that computes the maximum of two elements: (1) absolute of -4 and (2) minimum of -3 and the length of the string \"abc\"."
   ],
   "metadata": {}
  },
  {
   "cell_type": "code",
   "execution_count": 44,
   "source": [
    "string = \"abc\"\n",
    "\n",
    "#1\n",
    "a = abs(-4)\n",
    "print(\"1 - Absolute of -4 is: \",a)\n",
    "\n",
    "b = min(string)\n",
    "print(\"1 - Minimum of -3 is: \",b)"
   ],
   "outputs": [
    {
     "output_type": "stream",
     "name": "stdout",
     "text": [
      "1 - Absolute of -4 is:  4\n",
      "1 - Minimum of -3 is:  a\n"
     ]
    }
   ],
   "metadata": {}
  },
  {
   "cell_type": "markdown",
   "source": [
    "## Compute Euclidean Distance\n",
    "Write a Python program to compute the Euclidean distance between two given points $ (x_1, y_1) $ and $ (x_2, y_2) $, which is $ \\sqrt{(x_1 - x_2)^2 + (y_1 - y_2)^2} $."
   ],
   "metadata": {}
  },
  {
   "cell_type": "code",
   "execution_count": 47,
   "source": [
    "import math\n",
    "\n",
    "x_1 = int(input(\"Inter x for point #1: \"))\n",
    "y_1 = int(input(\"Inter y for point #1: \"))\n",
    "\n",
    "x_2 = int(input(\"Inter x for point #2: \"))\n",
    "y_2 = int(input(\"Inter y for point #2: \"))\n",
    "\n",
    "Euclidean_distance = math.sqrt(((x_1 - x_2)**2 + (y_1 - y_2)**2))\n",
    "\n",
    "print(Euclidean_distance)\n"
   ],
   "outputs": [
    {
     "output_type": "stream",
     "name": "stdout",
     "text": [
      "Inter x for point #1: 1\n",
      "Inter y for point #1: 2\n",
      "Inter x for point #2: 3\n",
      "Inter y for point #2: 4\n",
      "2.8284271247461903\n"
     ]
    }
   ],
   "metadata": {}
  },
  {
   "cell_type": "markdown",
   "source": [
    "## Convert Fahrenheit to Celsius \n",
    "Write a Python program to convert fahrenheit to celsius based on the the formula $ C = (F - 32) \\times \\frac{5}{9}. $"
   ],
   "metadata": {}
  },
  {
   "cell_type": "code",
   "execution_count": 3,
   "source": [
    "Temp_F = int(input(\"Enter Temperature in Fahrenheit: \"))\n",
    "\n",
    "Temp_C = (Temp_F-32)*(5/9)\n",
    "\n",
    "print(Temp_C)"
   ],
   "outputs": [
    {
     "output_type": "stream",
     "name": "stdout",
     "text": [
      "Enter Temperature in Fahrenheit: 18\n",
      "-7.777777777777779\n"
     ]
    }
   ],
   "metadata": {}
  },
  {
   "cell_type": "code",
   "execution_count": null,
   "source": [],
   "outputs": [],
   "metadata": {}
  }
 ],
 "metadata": {
  "kernelspec": {
   "display_name": "Python 3 (ipykernel)",
   "language": "python",
   "name": "python3"
  },
  "language_info": {
   "codemirror_mode": {
    "name": "ipython",
    "version": 3
   },
   "file_extension": ".py",
   "mimetype": "text/x-python",
   "name": "python",
   "nbconvert_exporter": "python",
   "pygments_lexer": "ipython3",
   "version": "3.8.5"
  }
 },
 "nbformat": 4,
 "nbformat_minor": 5
}